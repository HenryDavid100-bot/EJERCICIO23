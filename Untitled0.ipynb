{
  "nbformat": 4,
  "nbformat_minor": 0,
  "metadata": {
    "colab": {
      "provenance": [],
      "authorship_tag": "ABX9TyOmvl9tP0krB9VfTA/6ILVz",
      "include_colab_link": true
    },
    "kernelspec": {
      "name": "python3",
      "display_name": "Python 3"
    },
    "language_info": {
      "name": "python"
    }
  },
  "cells": [
    {
      "cell_type": "markdown",
      "metadata": {
        "id": "view-in-github",
        "colab_type": "text"
      },
      "source": [
        "<a href=\"https://colab.research.google.com/github/HenryDavid100-bot/EJERCICIO23/blob/main/Untitled0.ipynb\" target=\"_parent\"><img src=\"https://colab.research.google.com/assets/colab-badge.svg\" alt=\"Open In Colab\"/></a>"
      ]
    },
    {
      "cell_type": "code",
      "execution_count": null,
      "metadata": {
        "id": "SJja_M1F5C_I"
      },
      "outputs": [],
      "source": []
    },
    {
      "cell_type": "markdown",
      "source": [
        "bloque de texto: aca escriban una breve explicacion de lo que hace el codigo"
      ],
      "metadata": {
        "id": "Z0wYGQ405EF7"
      }
    },
    {
      "cell_type": "markdown",
      "source": [
        "al ingresar un nemero de cedula el scrip indentifica la validacion de la cedula si pertenece o no a ecuador."
      ],
      "metadata": {
        "id": "YSNZ4BsG5Vgy"
      }
    },
    {
      "cell_type": "code",
      "source": [
        "## ingresamos una variable, \"cedula\"\n",
        "\n",
        "cedula=input(\"ingrese el numero de cedula:\")\n",
        "suma= 0\n",
        "\n",
        "##le asignamos al numero de cedula un rango, pero menos 1\n",
        "\n",
        "for i in range(len(cedula) - 1 ):\n",
        "    x = int(cedula[i])\n",
        "\n",
        "    ##hacemos que los numeros sean pares y los multiplicamos por 2\n",
        "    ## si el resultado excede de 9 lo restamos por 9\n",
        "\n",
        "    if i%2 == 0:\n",
        "        x = x * 2\n",
        "        if x > 9:\n",
        "           x = x - 9\n",
        "    suma = suma + x\n",
        "\n",
        "#trabajamos en base 10 por un sistema decimal\n",
        "\n",
        "if suma%10 !=0:\n",
        "    resultado = 10 - (suma%10)\n",
        "\n",
        "## inprimimos y verificamos su validez\n",
        "\n",
        "    if int(cedula [-1]) == resultado:\n",
        "        print(\"la cedula es Ecuatoriana\".format(cedula))\n",
        "    else:\n",
        "        print(\"la cedula NO es Ecuatoriana\".format(cedula))\n",
        "\n",
        "\n",
        "\n",
        ""
      ],
      "metadata": {
        "colab": {
          "base_uri": "https://localhost:8080/"
        },
        "id": "3GxIBqkV5K7a",
        "outputId": "d694a191-6a6c-46d3-bd87-ea75432abe20"
      },
      "execution_count": 1,
      "outputs": [
        {
          "output_type": "stream",
          "name": "stdout",
          "text": [
            "ingrese el numero de cedula:1752124014\n",
            "la cedula es Ecuatoriana\n"
          ]
        }
      ]
    },
    {
      "cell_type": "code",
      "source": [
        "print(\" \\tPrograma para saber a que parte de América pertenece un país\\t\")\n",
        "print(\" Ingrese el nombre del pais con la primera letra en mayuscula y sin tildes ejemplo (El Salvador)\\n\\n\")\n",
        "\n",
        "pais = input(\" \\tIngrese un país: \")\n",
        "\n",
        "#Paises de América del Norte\n",
        "if ( pais == \"Estados Unidos\" or pais == \"Mexico\" or pais == \"Canada\" ):\n",
        "    print(f\" \\nEl pais {pais} pertenece a América del Norte\\n \")\n",
        "\n",
        "#Paises de América Central\n",
        "elif ( pais == \"Belice\" or pais == \"Costa Rica\" or pais == \"El Salvador\" or pais == \"Guatemala\" or pais == \"Honduras\"\n",
        "      or pais ==  \"Nicaragua\" or pais == \"Panama\" or pais == \"Antigua y Barbuda\" or pais == \"Bahamas\" or pais == \"Barbados\"\n",
        "      or pais == \"Cuba\" or pais == \"Dominica\" or pais == \"Granada\" or pais == \"Haiti\" or pais == \"Jamaica\"\n",
        "      or pais == \"Republica Dominicana\" or pais == \"Saint Kitts y Nevis\" or pais == \"Santa Lucia\"\n",
        "      or pais == \"San Vicente y las Granadinas\" or pais == \"Trinidad y Tobago\"):\n",
        "    print(f\" \\nEl pais {pais} pertenece a América Central\\n \")\n",
        "\n",
        "#Paises de America del Sur\n",
        "elif( pais == \"Argentina\" or pais == \"Bolivia\" or pais == \"Brasil\" or pais == \"Chile\" or pais == \"Colombia\"\n",
        "or pais == \"Ecuador\" or pais == \"Guyana\" or pais == \"Guyana Francesa\" or pais == \"Paraguay\" or pais == \"Peru\"\n",
        "or pais == \"Suriname\" or pais == \"Uruguay\" or pais == \"Venezuela\"):\n",
        "    print(f\" \\nEl pais {pais} pertenece a América del Sur \\n\")\n",
        "\n",
        "# Si el pais no pertenece a America\n",
        "else:\n",
        "    print(\"\\t ------DESCONOCIDO-------\\t\")\n",
        "    print(f\" El pais {pais} no pertenece al continente Americano \\n\")\n",
        "input()"
      ],
      "metadata": {
        "colab": {
          "base_uri": "https://localhost:8080/"
        },
        "id": "eYkcjUTS5ulB",
        "outputId": "fc7f4c2b-af95-43ba-c53d-53ea23c0ec00"
      },
      "execution_count": null,
      "outputs": [
        {
          "output_type": "stream",
          "name": "stdout",
          "text": [
            " \tPrograma para saber a que parte de América pertenece un país\t\n",
            " Ingrese el nombre del pais con la primera letra en mayuscula y sin tildes ejemplo (El Salvador)\n",
            "\n",
            "\n",
            " \tIngrese un país: ecuador\n",
            "\t ------DESCONOCIDO-------\t\n",
            " El pais ecuador no pertenece al continente Americano \n",
            "\n"
          ]
        }
      ]
    },
    {
      "cell_type": "markdown",
      "source": [
        "al colocar el nombre del pais de origen el scrip identifica de que parte de america es.\n"
      ],
      "metadata": {
        "id": "X8jLxF4U6aVq"
      }
    }
  ]
}